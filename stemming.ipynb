{
 "cells": [
  {
   "cell_type": "code",
   "execution_count": 12,
   "id": "819e25ee",
   "metadata": {},
   "outputs": [],
   "source": [
    "words=[\"eating\",\"eat\",\"eaten\",\"writing\",\"writes\",\"programming\",\"programs\",\"history\",\"finally\",\"finalize\"]"
   ]
  },
  {
   "cell_type": "code",
   "execution_count": 13,
   "id": "18606c9c",
   "metadata": {},
   "outputs": [],
   "source": [
    "## porter stemmer\n",
    "from nltk.stem import PorterStemmer\n",
    "stemming=PorterStemmer()"
   ]
  },
  {
   "cell_type": "code",
   "execution_count": 14,
   "id": "05d58120",
   "metadata": {},
   "outputs": [
    {
     "name": "stdout",
     "output_type": "stream",
     "text": [
      "eating -----> eat\n",
      "eat -----> eat\n",
      "eaten -----> eaten\n",
      "writing -----> write\n",
      "writes -----> write\n",
      "programming -----> program\n",
      "programs -----> program\n",
      "history -----> histori\n",
      "finally -----> final\n",
      "finalize -----> final\n"
     ]
    }
   ],
   "source": [
    "for word in words:\n",
    "    print(word,\"----->\",stemming.stem(word))"
   ]
  },
  {
   "cell_type": "code",
   "execution_count": 15,
   "id": "a2024d15",
   "metadata": {},
   "outputs": [
    {
     "data": {
      "text/plain": [
       "'congratul'"
      ]
     },
     "execution_count": 15,
     "metadata": {},
     "output_type": "execute_result"
    }
   ],
   "source": [
    "stemming.stem('congratulations')\n",
    "# stemming.stem(\"sitting\")"
   ]
  },
  {
   "cell_type": "code",
   "execution_count": 16,
   "id": "46ec1bd3",
   "metadata": {},
   "outputs": [
    {
     "data": {
      "text/plain": [
       "'sitt'"
      ]
     },
     "execution_count": 16,
     "metadata": {},
     "output_type": "execute_result"
    }
   ],
   "source": [
    "## regex stemmer\n",
    "from nltk.stem import RegexpStemmer\n",
    "reg_stemmer=RegexpStemmer('ing$|s$|e$|able$',min=4)\n",
    "reg_stemmer.stem('sitting')"
   ]
  },
  {
   "cell_type": "code",
   "execution_count": 17,
   "id": "7b6abded",
   "metadata": {},
   "outputs": [
    {
     "data": {
      "text/plain": [
       "'was'"
      ]
     },
     "execution_count": 17,
     "metadata": {},
     "output_type": "execute_result"
    }
   ],
   "source": [
    "reg_stemmer.stem('was')"
   ]
  },
  {
   "cell_type": "code",
   "execution_count": null,
   "id": "9b31c6dd",
   "metadata": {},
   "outputs": [],
   "source": []
  },
  {
   "cell_type": "code",
   "execution_count": 18,
   "id": "592913d3",
   "metadata": {},
   "outputs": [],
   "source": [
    "#snowball stemmer --- updatesd version of porter stemmer //porter 2\n",
    "from nltk.stem import SnowballStemmer\n",
    "snow_stemmer =SnowballStemmer('english')"
   ]
  },
  {
   "cell_type": "code",
   "execution_count": 19,
   "id": "63765685",
   "metadata": {},
   "outputs": [
    {
     "name": "stdout",
     "output_type": "stream",
     "text": [
      "eating -----> eat\n",
      "eat -----> eat\n",
      "eaten -----> eaten\n",
      "writing -----> write\n",
      "writes -----> write\n",
      "programming -----> program\n",
      "programs -----> program\n",
      "history -----> histori\n",
      "finally -----> final\n",
      "finalize -----> final\n"
     ]
    }
   ],
   "source": [
    "for word in words:\n",
    "    print(word,\"----->\",snow_stemmer.stem(word))"
   ]
  },
  {
   "cell_type": "code",
   "execution_count": 22,
   "id": "22e20b46",
   "metadata": {},
   "outputs": [
    {
     "name": "stderr",
     "output_type": "stream",
     "text": [
      "[nltk_data] Downloading package wordnet to C:\\Users\\Gopal\n",
      "[nltk_data]     Sharma\\AppData\\Roaming\\nltk_data...\n"
     ]
    }
   ],
   "source": [
    "import nltk\n",
    "# nltk.download('punkt')  # For sentence tokenization\n",
    "nltk.download('wordnet')  # For lemmatization\n",
    "\n",
    "from nltk.stem import WordNetLemmatizer\n",
    "from nltk.corpus import wordnet\n",
    "\n",
    "# Initialize lemmatizer\n",
    "lemmatizer = WordNetLemmatizer()\n",
    "\n",
    "def lemmatize_word(word):\n",
    "    return lemmatizer.lemmatize(word) "
   ]
  },
  {
   "cell_type": "code",
   "execution_count": 23,
   "id": "d1fc58cf",
   "metadata": {},
   "outputs": [
    {
     "name": "stdout",
     "output_type": "stream",
     "text": [
      "['eating', 'eat', 'eaten', 'writing', 'writes', 'programming', 'program', 'history', 'finally', 'finalize']\n"
     ]
    }
   ],
   "source": [
    "lemmas = [lemmatize_word(word) for word in words]\n",
    "print(lemmas)"
   ]
  },
  {
   "cell_type": "code",
   "execution_count": null,
   "id": "55cef504",
   "metadata": {},
   "outputs": [],
   "source": []
  }
 ],
 "metadata": {
  "kernelspec": {
   "display_name": "Python 3",
   "language": "python",
   "name": "python3"
  },
  "language_info": {
   "codemirror_mode": {
    "name": "ipython",
    "version": 3
   },
   "file_extension": ".py",
   "mimetype": "text/x-python",
   "name": "python",
   "nbconvert_exporter": "python",
   "pygments_lexer": "ipython3",
   "version": "3.11.9"
  }
 },
 "nbformat": 4,
 "nbformat_minor": 5
}
